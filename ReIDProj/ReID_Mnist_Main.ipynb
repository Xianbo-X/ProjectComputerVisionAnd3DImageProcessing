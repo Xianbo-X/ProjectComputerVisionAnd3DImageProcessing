{
 "cells": [
  {
   "cell_type": "code",
   "execution_count": 1,
   "metadata": {},
   "outputs": [
    {
     "name": "stderr",
     "output_type": "stream",
     "text": [
      "C:\\Users\\20211575\\Anaconda3\\lib\\site-packages\\torchvision\\io\\image.py:11: UserWarning: Failed to load image Python extension: Could not find module 'C:\\Users\\20211575\\Anaconda3\\Lib\\site-packages\\torchvision\\image.pyd' (or one of its dependencies). Try using the full path with constructor syntax.\n",
      "  warn(f\"Failed to load image Python extension: {e}\")\n"
     ]
    }
   ],
   "source": [
    "import numpy as np\n",
    "import pandas as pd\n",
    "from matplotlib import pyplot as plt\n",
    "import torch\n",
    "import torch.nn as nn\n",
    "import torchvision\n",
    "from torch.utils.data import DataLoader\n",
    "import torch.nn.functional as F\n",
    "import torch.optim as optim\n",
    "\n",
    "import traceback\n",
    "import os"
   ]
  },
  {
   "cell_type": "code",
   "execution_count": 2,
   "metadata": {},
   "outputs": [],
   "source": [
    "DEBUG=True\n",
    "batch_size=64\n",
    "shuffle_flag=False if DEBUG else True\n",
    "random_seed=1\n",
    "if DEBUG:\n",
    "    torch.manual_seed(random_seed)\n",
    "\n",
    "train_data=torchvision.datasets.MNIST(\"./data\",train=True,download=True,transform=torchvision.transforms.ToTensor())\n",
    "test_data=torchvision.datasets.MNIST(\"./data\",train=False,download=True,transform=torchvision.transforms.ToTensor())# Warning: ToTensor will divide the original data by 255\n",
    "train_loader=DataLoader(train_data,batch_size=batch_size,shuffle=shuffle_flag,) \n",
    "test_loader=DataLoader(test_data,batch_size=batch_size,shuffle=shuffle_flag)"
   ]
  },
  {
   "cell_type": "code",
   "execution_count": 3,
   "metadata": {},
   "outputs": [
    {
     "data": {
      "text/plain": [
       "Text(0.5, 1.0, 'digit 5')"
      ]
     },
     "execution_count": 3,
     "metadata": {},
     "output_type": "execute_result"
    },
    {
     "data": {
      "image/png": "[encoded data removed]",
      "text/plain": [
       "<Figure size 432x288 with 1 Axes>"
      ]
     },
     "metadata": {
      "needs_background": "light"
     },
     "output_type": "display_data"
    }
   ],
   "source": [
    "plt.imshow(train_data.data[0].detach().numpy(),cmap=\"gray\")\n",
    "plt.axis(\"off\")\n",
    "plt.title(\"digit {}\".format(train_data.targets[0].detach().numpy()))"
   ]
  },
  {
   "cell_type": "code",
   "execution_count": 4,
   "metadata": {},
   "outputs": [],
   "source": [
    "from ConvNetwork import ConvNet\n",
    "from Trainer import train"
   ]
  },
  {
   "cell_type": "code",
   "execution_count": 5,
   "metadata": {},
   "outputs": [],
   "source": [
    "input_size_2d=np.array(train_data.data[0].shape)\n",
    "model=ConvNet(input_size_2d,10)"
   ]
  },
  {
   "cell_type": "code",
   "execution_count": 6,
   "metadata": {},
   "outputs": [],
   "source": [
    "# Define hyperparamters, optimizers and loss_function\n",
    "EPOCHES=20\n",
    "lr=0.01\n",
    "momentum=0.5\n",
    "optimizer=optim.SGD(model.parameters(),lr=lr,momentum=momentum)\n",
    "loss_func=nn.CrossEntropyLoss() # Combined LogSoftmax() and NLL_Loss()"
   ]
  },
  {
   "cell_type": "code",
   "execution_count": 7,
   "metadata": {},
   "outputs": [
    {
     "name": "stdout",
     "output_type": "stream",
     "text": [
      "Train Epoch:1/3 \t Average Loss: 2.136037ss: 1.570756\n",
      "Train Epoch:3/3 [57600/60000 (96%)] \t Loss: 0.835475\r"
     ]
    }
   ],
   "source": [
    "save_path=\"./result\"\n",
    "if not os.path.exists(save_path):\n",
    "    os.mkdir(save_path)\n",
    "recorded_message=train(model,train_loader,test_loader,optimizer,loss_func,3,PATH=\"result\",checkpoint_interval=2)"
   ]
  },
  {
   "cell_type": "code",
   "execution_count": 18,
   "metadata": {},
   "outputs": [],
   "source": [
    "def draw_loss(ax,epoch,loss,label):\n",
    "    ax.plot(epoch,loss,label=label)\n",
    "    ax.set_title(\"loss\")\n",
    "    return ax\n",
    "\n",
    "def draw_lr(ax,epoch,learning_rate,label):\n",
    "    ax.plot(epoch,learning_rate,label=label)\n",
    "    ax.set_title(\"learning rate\")\n",
    "    return ax"
   ]
  },
  {
   "cell_type": "code",
   "execution_count": 24,
   "metadata": {},
   "outputs": [
    {
     "data": {
      "image/png": "[encoded data removed]",
      "text/plain": [
       "<Figure size 432x288 with 2 Axes>"
      ]
     },
     "metadata": {
      "needs_background": "light"
     },
     "output_type": "display_data"
    }
   ],
   "source": [
    "fig=plt.figure()\n",
    "axes=fig.subplots(1,2)\n",
    "train_loss=np.array(recorded_message[\"loss\"][\"train_loss\"])\n",
    "learning_rate=np.array(recorded_message[\"lr\"])\n",
    "draw_loss(axes[0],train_loss[:,0],train_loss[:,1],\"train\")\n",
    "draw_lr(axes[1],learning_rate[:,0],learning_rate[:,1],\"train\")\n",
    "for ax in axes:\n",
    "    ax.legend()\n",
    "fig.tight_layout()"
   ]
  },
  {
   "cell_type": "code",
   "execution_count": null,
   "metadata": {},
   "outputs": [],
   "source": []
  }
 ],
 "metadata": {
  "interpreter": {
   "hash": "aed78e571fd0f3b5f6e4daf32fc9def4ab947b22cdb5cc3bd7211cb1c528a359"
  },
  "kernelspec": {
   "display_name": "Python 3.9.7 64-bit ('base': conda)",
   "language": "python",
   "name": "python3"
  },
  "language_info": {
   "codemirror_mode": {
    "name": "ipython",
    "version": 3
   },
   "file_extension": ".py",
   "mimetype": "text/x-python",
   "name": "python",
   "nbconvert_exporter": "python",
   "pygments_lexer": "ipython3",
   "version": "3.9.7"
  },
  "orig_nbformat": 4
 },
 "nbformat": 4,
 "nbformat_minor": 2
}
