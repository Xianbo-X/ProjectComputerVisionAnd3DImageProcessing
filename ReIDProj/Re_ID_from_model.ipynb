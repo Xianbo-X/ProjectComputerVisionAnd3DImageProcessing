{
 "cells": [
  {
   "cell_type": "code",
   "execution_count": 1,
   "metadata": {},
   "outputs": [],
   "source": [
    "import pandas as pd\n",
    "import torch\n",
    "import os \n",
    "from matplotlib import pyplot as plt\n",
    "import json\n",
    "from Utilities import load_model\n",
    "import logging\n",
    "from ConvNetwork import ConvNet"
   ]
  },
  {
   "cell_type": "code",
   "execution_count": 2,
   "metadata": {},
   "outputs": [],
   "source": [
    "def init_logging(log_file=None, append=False, console_loglevel=logging.INFO):\n",
    "    \"\"\"https://www.programcreek.com/python/example/136/logging.basicConfig\"\"\"\n",
    "    \"\"\"Set up logging to file and console.\"\"\"\n",
    "    if log_file is not None:\n",
    "        if append:\n",
    "            filemode_val = 'a'\n",
    "        else:\n",
    "            filemode_val = 'w'\n",
    "        logging.basicConfig(level=logging.DEBUG,\n",
    "                            format=\"%(asctime)s %(levelname)s %(threadName)s %(name)s %(message)s\",\n",
    "                            # datefmt='%m-%d %H:%M',\n",
    "                            filename=log_file,\n",
    "                            filemode=filemode_val)\n",
    "    # define a Handler which writes INFO messages or higher to the sys.stderr\n",
    "    console = logging.StreamHandler()\n",
    "    console.setLevel(console_loglevel)\n",
    "    # set a format which is simpler for console use\n",
    "    formatter = logging.Formatter(\"%(message)s\")\n",
    "    console.setFormatter(formatter)\n",
    "    # add the handler to the root logger\n",
    "    logging.getLogger('').addHandler(console)\n",
    "    global LOG\n",
    "    LOG = logging.getLogger(__name__) "
   ]
  },
  {
   "cell_type": "code",
   "execution_count": 3,
   "metadata": {},
   "outputs": [],
   "source": [
    "init_logging()"
   ]
  },
  {
   "cell_type": "code",
   "execution_count": 4,
   "metadata": {},
   "outputs": [],
   "source": [
    "with open(\"../Config/output.json\",\"r\") as fin:\n",
    "     output_conf=json.load(fin)"
   ]
  },
  {
   "cell_type": "code",
   "execution_count": 5,
   "metadata": {},
   "outputs": [],
   "source": [
    "model=load_model(output_conf[\"path\"][\"model\"],ConvNet,{\"in_feature_2d\":(28,28),\"out_feature\":10})"
   ]
  },
  {
   "cell_type": "code",
   "execution_count": null,
   "metadata": {},
   "outputs": [],
   "source": [
    "import torch.nn as nn\n",
    "import torchvision\n",
    "from torch.utils.data import DataLoader\n",
    "import torch.nn.functional as F\n",
    "import torch.optim as optim"
   ]
  },
  {
   "cell_type": "code",
   "execution_count": null,
   "metadata": {},
   "outputs": [],
   "source": [
    "DEBUG=False\n",
    "batch_size=64\n",
    "shuffle_flag=False if DEBUG else True\n",
    "random_seed=1\n",
    "if DEBUG:\n",
    "    torch.manual_seed(random_seed)\n",
    "\n",
    "train_data=torchvision.datasets.MNIST(\"./data\",train=True,download=True,transform=torchvision.transforms.ToTensor())\n",
    "test_data=torchvision.datasets.MNIST(\"./data\",train=False,download=True,transform=torchvision.transforms.ToTensor())# Warning: ToTensor will divide the original data by 255\n",
    "train_loader=DataLoader(train_data,batch_size=batch_size,shuffle=shuffle_flag,) \n",
    "test_loader=DataLoader(test_data,batch_size=batch_size,shuffle=shuffle_flag)"
   ]
  }
 ],
 "metadata": {
  "interpreter": {
   "hash": "709908c57e4fe06be2030c33e68a5897e38c119e807fb99702f3b3b73d7ee1ee"
  },
  "kernelspec": {
   "display_name": "Python 3.8.12 64-bit ('experiments': conda)",
   "language": "python",
   "name": "python3"
  },
  "language_info": {
   "codemirror_mode": {
    "name": "ipython",
    "version": 3
   },
   "file_extension": ".py",
   "mimetype": "text/x-python",
   "name": "python",
   "nbconvert_exporter": "python",
   "pygments_lexer": "ipython3",
   "version": "3.8.12"
  },
  "orig_nbformat": 4
 },
 "nbformat": 4,
 "nbformat_minor": 2
}
