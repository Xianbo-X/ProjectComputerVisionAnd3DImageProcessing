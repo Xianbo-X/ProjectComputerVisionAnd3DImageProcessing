{
 "cells": [
  {
   "cell_type": "code",
   "execution_count": 1,
   "metadata": {},
   "outputs": [
    {
     "name": "stderr",
     "output_type": "stream",
     "text": [
      "C:\\Users\\20211575\\Anaconda3\\lib\\site-packages\\torchvision\\io\\image.py:11: UserWarning: Failed to load image Python extension: Could not find module 'C:\\Users\\20211575\\Anaconda3\\Lib\\site-packages\\torchvision\\image.pyd' (or one of its dependencies). Try using the full path with constructor syntax.\n",
      "  warn(f\"Failed to load image Python extension: {e}\")\n"
     ]
    }
   ],
   "source": [
    "import pandas as pd\n",
    "import torch\n",
    "import os \n",
    "from matplotlib import pyplot as plt\n",
    "import matplotlib\n",
    "import json\n",
    "from Utilities import load_model\n",
    "import logging\n",
    "\n",
    "from ConvNetwork import ConvNet\n",
    "from Tester import TestTools\n",
    "\n",
    "import torch.nn as nn\n",
    "import torchvision\n",
    "from torch.utils.data import DataLoader\n",
    "import torch.nn.functional as F\n",
    "import torch.optim as optim\n"
   ]
  },
  {
   "cell_type": "code",
   "execution_count": 2,
   "metadata": {},
   "outputs": [],
   "source": [
    "import numpy as np"
   ]
  },
  {
   "cell_type": "code",
   "execution_count": 3,
   "metadata": {},
   "outputs": [],
   "source": [
    "def init_logging(log_file=None, append=False, console_loglevel=logging.INFO):\n",
    "    \"\"\"https://www.programcreek.com/python/example/136/logging.basicConfig\"\"\"\n",
    "    \"\"\"Set up logging to file and console.\"\"\"\n",
    "    if log_file is not None:\n",
    "        if append:\n",
    "            filemode_val = 'a'\n",
    "        else:\n",
    "            filemode_val = 'w'\n",
    "        logging.basicConfig(level=logging.DEBUG,\n",
    "                            format=\"%(asctime)s %(levelname)s %(threadName)s %(name)s %(message)s\",\n",
    "                            # datefmt='%m-%d %H:%M',\n",
    "                            filename=log_file,\n",
    "                            filemode=filemode_val)\n",
    "    # define a Handler which writes INFO messages or higher to the sys.stderr\n",
    "    console = logging.StreamHandler()\n",
    "    console.setLevel(console_loglevel)\n",
    "    # set a format which is simpler for console use\n",
    "    formatter = logging.Formatter(\"%(message)s\")\n",
    "    console.setFormatter(formatter)\n",
    "    # add the handler to the root logger\n",
    "    logging.getLogger('').addHandler(console)\n",
    "    global LOG\n",
    "    LOG = logging.getLogger(__name__) "
   ]
  },
  {
   "cell_type": "code",
   "execution_count": 4,
   "metadata": {},
   "outputs": [],
   "source": [
    "init_logging()"
   ]
  },
  {
   "cell_type": "markdown",
   "metadata": {},
   "source": [
    "# Load Pretrained Model"
   ]
  },
  {
   "cell_type": "code",
   "execution_count": 5,
   "metadata": {},
   "outputs": [],
   "source": [
    "with open(\"./Config/output.json\",\"r\") as fin:\n",
    "     output_conf=json.load(fin)"
   ]
  },
  {
   "cell_type": "code",
   "execution_count": 6,
   "metadata": {},
   "outputs": [],
   "source": [
    "model=load_model(output_conf[\"path\"][\"model\"],ConvNet,{\"in_feature_2d\":(28,28),\"out_feature\":10})"
   ]
  },
  {
   "cell_type": "code",
   "execution_count": 7,
   "metadata": {},
   "outputs": [
    {
     "data": {
      "text/plain": [
       "ConvNet(\n",
       "  (conv1): Conv2d(1, 16, kernel_size=(5, 5), stride=(1, 1), padding=same)\n",
       "  (act1): ReLU()\n",
       "  (pooling1): MaxPool2d(kernel_size=(2, 2), stride=2, padding=0, dilation=1, ceil_mode=False)\n",
       "  (conv2): Conv2d(16, 32, kernel_size=(3, 3), stride=(1, 1), padding=same)\n",
       "  (act2): ReLU()\n",
       "  (pooling2): MaxPool2d(kernel_size=(2, 2), stride=2, padding=0, dilation=1, ceil_mode=False)\n",
       "  (conv3): Conv2d(32, 32, kernel_size=(3, 3), stride=(1, 1), padding=same)\n",
       "  (act3): ReLU()\n",
       "  (pooling3): MaxPool2d(kernel_size=(7, 7), stride=(7, 7), padding=0, dilation=1, ceil_mode=False)\n",
       "  (featureFC): Linear(in_features=32, out_features=2, bias=True)\n",
       "  (outputFC): Linear(in_features=2, out_features=10, bias=True)\n",
       ")"
      ]
     },
     "execution_count": 7,
     "metadata": {},
     "output_type": "execute_result"
    }
   ],
   "source": [
    "model.eval()"
   ]
  },
  {
   "cell_type": "markdown",
   "metadata": {},
   "source": [
    "## Get data set"
   ]
  },
  {
   "cell_type": "code",
   "execution_count": 8,
   "metadata": {},
   "outputs": [],
   "source": [
    "DEBUG=False\n",
    "batch_size=None if DEBUG else 64\n",
    "shuffle_flag=False if DEBUG else True\n",
    "random_seed=1\n",
    "if DEBUG:\n",
    "    torch.manual_seed(random_seed)\n",
    "\n",
    "train_data=torchvision.datasets.MNIST(\"./data\",train=True,download=True,transform=torchvision.transforms.ToTensor())\n",
    "test_data=torchvision.datasets.MNIST(\"./data\",train=False,download=True,transform=torchvision.transforms.ToTensor())# Warning: ToTensor will divide the original data by 255\n",
    "train_loader=DataLoader(train_data,batch_size=batch_size,shuffle=shuffle_flag,) \n",
    "test_loader=DataLoader(test_data,batch_size=batch_size,shuffle=shuffle_flag)"
   ]
  },
  {
   "cell_type": "code",
   "execution_count": 9,
   "metadata": {},
   "outputs": [],
   "source": [
    "# TestTools.accuracy_rate(model,train_data.data/255,train_data.targets)"
   ]
  },
  {
   "cell_type": "code",
   "execution_count": 10,
   "metadata": {},
   "outputs": [],
   "source": [
    "\n",
    "# TestTools.accuracy_rate(model,test_data.data/255,test_data.targets)"
   ]
  },
  {
   "cell_type": "markdown",
   "metadata": {},
   "source": [
    "## Extract feature vectors"
   ]
  },
  {
   "cell_type": "code",
   "execution_count": 11,
   "metadata": {},
   "outputs": [],
   "source": [
    "feature_gallery_path=\"./result/feature_gallery.csv\"\n",
    "if not os.path.exists(feature_gallery_path):\n",
    "    feature_gallery=model.feature_extraction(train_data.data.reshape(-1,1,28,28)/255).detach().numpy()\n",
    "    feature_gallery_df=pd.concat([pd.DataFrame(feature_gallery,columns=[\"x\",\"y\"]),pd.DataFrame(train_data.targets.numpy(),columns=[\"label\"])],axis=1,join=\"inner\")\n",
    "    if DEBUG: print(feature_gallery_df.head())\n",
    "    # persistance the feature gallery for further process\n",
    "    feature_gallery_df.to_csv(feature_gallery_path,index=False)\n",
    "else:\n",
    "    feature_gallery_df=pd.read_csv(feature_gallery_path)"
   ]
  },
  {
   "cell_type": "code",
   "execution_count": 12,
   "metadata": {},
   "outputs": [
    {
     "data": {
      "text/plain": [
       "<matplotlib.legend.Legend at 0x219fe098100>"
      ]
     },
     "execution_count": 12,
     "metadata": {},
     "output_type": "execute_result"
    },
    {
     "data": {
      "image/png": "[encoded data removed]",
      "text/plain": [
       "<Figure size 720x720 with 1 Axes>"
      ]
     },
     "metadata": {
      "needs_background": "light"
     },
     "output_type": "display_data"
    }
   ],
   "source": [
    "fig=plt.figure(\"Gallery Embedding space\",figsize=(10,10))\n",
    "ax=fig.subplots(1,1)\n",
    "for key,data in feature_gallery_df.groupby(\"label\"):\n",
    "    ax.scatter(data[\"x\"],data[\"y\"],label=key)\n",
    "ax.set_title(\"Embedding space\")\n",
    "ax.legend()"
   ]
  },
  {
   "cell_type": "code",
   "execution_count": 13,
   "metadata": {},
   "outputs": [],
   "source": [
    "from Visualizers import VisualizationEmbeding"
   ]
  },
  {
   "cell_type": "code",
   "execution_count": 14,
   "metadata": {},
   "outputs": [],
   "source": [
    "embeding_space_vis=VisualizationEmbeding(train_data,0)"
   ]
  },
  {
   "cell_type": "code",
   "execution_count": 15,
   "metadata": {},
   "outputs": [
    {
     "data": {
      "image/png": "[encoded data removed]",
      "text/plain": [
       "<Figure size 720x720 with 1 Axes>"
      ]
     },
     "metadata": {
      "needs_background": "light"
     },
     "output_type": "display_data"
    }
   ],
   "source": [
    "embeding_space_vis.sample_datas(20)\n",
    "embeding_space_vis(model)"
   ]
  },
  {
   "cell_type": "code",
   "execution_count": 16,
   "metadata": {},
   "outputs": [],
   "source": [
    "from Queryer import QueryReID"
   ]
  },
  {
   "cell_type": "code",
   "execution_count": 17,
   "metadata": {},
   "outputs": [],
   "source": [
    "mnist_query=QueryReID(model,train_data.data.float().numpy()/255,train_data.targets.numpy(),gallery=feature_gallery_df)"
   ]
  },
  {
   "cell_type": "code",
   "execution_count": 18,
   "metadata": {},
   "outputs": [
    {
     "data": {
      "text/plain": [
       "array([[-4.766884, 20.874949]], dtype=float32)"
      ]
     },
     "execution_count": 18,
     "metadata": {},
     "output_type": "execute_result"
    }
   ],
   "source": [
    "mnist_query.get_query_feature(test_data.data[0].reshape(-1,1,28,28).float()/255)"
   ]
  },
  {
   "cell_type": "code",
   "execution_count": null,
   "metadata": {},
   "outputs": [],
   "source": []
  },
  {
   "cell_type": "code",
   "execution_count": 39,
   "metadata": {},
   "outputs": [],
   "source": [
    "idx=[0,1,2,3,4,5,6,156,8749,9845]\n",
    "query_data=test_data.data[idx].reshape(-1,1,28,28).float()/255\n",
    "query_target=test_data.targets[idx].numpy()\n",
    "query_feature=mnist_query.get_query_feature(query_data)\n",
    "top20=mnist_query.query(query_data,20)\n",
    "# mnist_query.draw(top20,idx,query_data,query_target)\n",
    "\n",
    "print(mnist_query.reid_accuracy_rate(test_data.data.reshape(-1,1,28,28)/255,test_data.targets,20,\"mean\"))"
   ]
  },
  {
   "cell_type": "code",
   "execution_count": 20,
   "metadata": {},
   "outputs": [
    {
     "data": {
      "text/plain": [
       "31699.5"
      ]
     },
     "execution_count": 20,
     "metadata": {},
     "output_type": "execute_result"
    }
   ],
   "source": [
    "top20[0].mean()"
   ]
  },
  {
   "cell_type": "code",
   "execution_count": 21,
   "metadata": {},
   "outputs": [
    {
     "name": "stdout",
     "output_type": "stream",
     "text": [
      "True\n",
      "True\n",
      "True\n",
      "True\n",
      "True\n",
      "True\n",
      "True\n",
      "True\n",
      "True\n",
      "True\n"
     ]
    }
   ],
   "source": [
    "data_all,target_all=mnist_query.get_gallery_data(top20)\n",
    "for i in range(top20.shape[0]):\n",
    "    data,target=mnist_query.get_gallery_data(top20[i,:])\n",
    "    print(np.all(target==target_all[i,:]))"
   ]
  },
  {
   "cell_type": "code",
   "execution_count": 22,
   "metadata": {},
   "outputs": [
    {
     "data": {
      "text/plain": [
       "array([[7],\n",
       "       [2],\n",
       "       [1],\n",
       "       [0],\n",
       "       [4],\n",
       "       [1],\n",
       "       [4],\n",
       "       [6],\n",
       "       [7],\n",
       "       [1]], dtype=int64)"
      ]
     },
     "execution_count": 22,
     "metadata": {},
     "output_type": "execute_result"
    }
   ],
   "source": [
    "query_target.reshape(-1,1)"
   ]
  },
  {
   "cell_type": "code",
   "execution_count": 23,
   "metadata": {},
   "outputs": [
    {
     "name": "stdout",
     "output_type": "stream",
     "text": [
      "True\n",
      "True\n",
      "True\n",
      "True\n",
      "True\n",
      "True\n",
      "True\n",
      "True\n",
      "True\n",
      "True\n"
     ]
    }
   ],
   "source": [
    "all_comp=target_all==query_target.reshape(-1,1)\n",
    "for i in range(target_all.shape[0]):\n",
    "    print( np.all(  all_comp[i]== (target_all[i,:]==query_target[i])  )  )"
   ]
  },
  {
   "cell_type": "code",
   "execution_count": 24,
   "metadata": {},
   "outputs": [
    {
     "data": {
      "text/plain": [
       "(10, 20)"
      ]
     },
     "execution_count": 24,
     "metadata": {},
     "output_type": "execute_result"
    }
   ],
   "source": [
    "all_comp.shape"
   ]
  },
  {
   "cell_type": "code",
   "execution_count": 25,
   "metadata": {},
   "outputs": [
    {
     "data": {
      "text/plain": [
       "array([20, 18, 20, 20, 20, 20, 20, 20, 20, 20])"
      ]
     },
     "execution_count": 25,
     "metadata": {},
     "output_type": "execute_result"
    }
   ],
   "source": [
    "all_comp.sum(axis=1)"
   ]
  },
  {
   "cell_type": "code",
   "execution_count": 26,
   "metadata": {},
   "outputs": [
    {
     "data": {
      "text/plain": [
       "torch.Size([10, 1, 28, 28])"
      ]
     },
     "execution_count": 26,
     "metadata": {},
     "output_type": "execute_result"
    }
   ],
   "source": [
    "query_data.shape"
   ]
  },
  {
   "cell_type": "code",
   "execution_count": 27,
   "metadata": {},
   "outputs": [],
   "source": [
    "feature_temp=model.feature_extraction(train_data.data[:10].float().reshape(-1,1,28,28)/255).detach().numpy()"
   ]
  },
  {
   "cell_type": "code",
   "execution_count": 28,
   "metadata": {},
   "outputs": [
    {
     "data": {
      "text/plain": [
       "(60000,)"
      ]
     },
     "execution_count": 28,
     "metadata": {},
     "output_type": "execute_result"
    }
   ],
   "source": [
    "np.linalg.norm((feature_temp[i]-mnist_query.gallery[[\"x\",\"y\"]].to_numpy()),axis=1).shape"
   ]
  },
  {
   "cell_type": "code",
   "execution_count": 29,
   "metadata": {},
   "outputs": [
    {
     "name": "stdout",
     "output_type": "stream",
     "text": [
      "True\n",
      "True\n",
      "True\n",
      "True\n",
      "True\n",
      "True\n",
      "True\n",
      "True\n",
      "True\n",
      "True\n"
     ]
    }
   ],
   "source": [
    "for i in range(10):\n",
    "    print(np.allclose((np.linalg.norm((feature_temp-mnist_query.gallery[[\"x\",\"y\"]].to_numpy()[:,None]),axis=-1).T)[i],np.linalg.norm((feature_temp[i]-mnist_query.gallery[[\"x\",\"y\"]].to_numpy()),axis=1)))"
   ]
  },
  {
   "cell_type": "code",
   "execution_count": 30,
   "metadata": {},
   "outputs": [
    {
     "data": {
      "text/plain": [
       "array([[0],\n",
       "       [1],\n",
       "       [2],\n",
       "       [3],\n",
       "       [4],\n",
       "       [5],\n",
       "       [6],\n",
       "       [7],\n",
       "       [8],\n",
       "       [9]], dtype=int64)"
      ]
     },
     "execution_count": 30,
     "metadata": {},
     "output_type": "execute_result"
    }
   ],
   "source": [
    "k=1\n",
    "np.argsort(np.linalg.norm((feature_temp-mnist_query.gallery[[\"x\",\"y\"]].to_numpy()[:,None]),axis=-1).T,axis=1)[:,:k]"
   ]
  },
  {
   "cell_type": "code",
   "execution_count": 31,
   "metadata": {},
   "outputs": [
    {
     "name": "stdout",
     "output_type": "stream",
     "text": [
      "(10, 2)\n",
      "(60000, 1, 2)\n"
     ]
    }
   ],
   "source": [
    "print(feature_temp.shape)\n",
    "print(mnist_query.gallery[[\"x\",\"y\"]].to_numpy()[:,None].shape)"
   ]
  },
  {
   "cell_type": "code",
   "execution_count": 32,
   "metadata": {},
   "outputs": [
    {
     "data": {
      "text/plain": [
       "(10, 2)"
      ]
     },
     "execution_count": 32,
     "metadata": {},
     "output_type": "execute_result"
    }
   ],
   "source": [
    "feature_temp.shape"
   ]
  },
  {
   "cell_type": "code",
   "execution_count": 33,
   "metadata": {},
   "outputs": [
    {
     "data": {
      "text/plain": [
       "array([-16.29713397, -36.28662901])"
      ]
     },
     "execution_count": 33,
     "metadata": {},
     "output_type": "execute_result"
    }
   ],
   "source": [
    "(feature_temp-mnist_query.gallery[[\"x\",\"y\"]].to_numpy()[:5,None])[3][5]"
   ]
  },
  {
   "cell_type": "code",
   "execution_count": 34,
   "metadata": {},
   "outputs": [
    {
     "data": {
      "text/plain": [
       "array([-16.29713397, -36.28662901])"
      ]
     },
     "execution_count": 34,
     "metadata": {},
     "output_type": "execute_result"
    }
   ],
   "source": [
    "feature_temp[5]-mnist_query.gallery[[\"x\",\"y\"]].to_numpy()[3]"
   ]
  },
  {
   "cell_type": "code",
   "execution_count": 35,
   "metadata": {},
   "outputs": [
    {
     "name": "stdout",
     "output_type": "stream",
     "text": [
      "True\n",
      "True\n",
      "True\n",
      "True\n",
      "True\n",
      "True\n",
      "True\n",
      "True\n",
      "True\n",
      "True\n"
     ]
    }
   ],
   "source": [
    "for i in range(10):\n",
    "    print(np.allclose((feature_temp[i,:]@mnist_query.gallery[[\"x\",\"y\"]].to_numpy().T),(feature_temp@mnist_query.gallery[[\"x\",\"y\"]].to_numpy().T)[i]))"
   ]
  },
  {
   "cell_type": "code",
   "execution_count": 36,
   "metadata": {},
   "outputs": [
    {
     "data": {
      "text/plain": [
       "array([[15525, 47937, 58225, ..., 18897, 47838, 25106],\n",
       "       [18897, 29637, 48774, ..., 58489,  7728, 29395],\n",
       "       [25106, 50935, 54780, ..., 15525, 47937, 58225],\n",
       "       ...,\n",
       "       [58225, 47937, 15525, ..., 47838, 50935, 25106],\n",
       "       [21597, 59177, 20515, ...,  6732, 17126, 27943],\n",
       "       [18897, 25106, 47838, ..., 58225, 47937, 15525]], dtype=int64)"
      ]
     },
     "execution_count": 36,
     "metadata": {},
     "output_type": "execute_result"
    }
   ],
   "source": [
    "np.argsort(feature_temp@mnist_query.gallery[[\"x\",\"y\"]].to_numpy().T)"
   ]
  },
  {
   "cell_type": "code",
   "execution_count": 37,
   "metadata": {},
   "outputs": [
    {
     "data": {
      "text/plain": [
       "array([-664.84511483,  696.33599145,  262.38545524,   41.03103483,\n",
       "         -5.60647026,   82.23531581,   27.41233172, -663.49152854,\n",
       "         36.8727497 ,  657.97293071])"
      ]
     },
     "execution_count": 37,
     "metadata": {},
     "output_type": "execute_result"
    }
   ],
   "source": [
    "feature_temp@mnist_query.gallery[[\"x\",\"y\"]].to_numpy()[15525]"
   ]
  },
  {
   "cell_type": "code",
   "execution_count": null,
   "metadata": {},
   "outputs": [],
   "source": []
  }
 ],
 "metadata": {
  "interpreter": {
   "hash": "709908c57e4fe06be2030c33e68a5897e38c119e807fb99702f3b3b73d7ee1ee"
  },
  "kernelspec": {
   "display_name": "Python 3.8.12 64-bit ('experiments': conda)",
   "language": "python",
   "name": "python3"
  },
  "language_info": {
   "codemirror_mode": {
    "name": "ipython",
    "version": 3
   },
   "file_extension": ".py",
   "mimetype": "text/x-python",
   "name": "python",
   "nbconvert_exporter": "python",
   "pygments_lexer": "ipython3",
   "version": "3.9.7"
  },
  "orig_nbformat": 4
 },
 "nbformat": 4,
 "nbformat_minor": 2
}
