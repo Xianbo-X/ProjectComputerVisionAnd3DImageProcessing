{
 "cells": [
  {
   "cell_type": "code",
   "execution_count": 1,
   "metadata": {},
   "outputs": [],
   "source": [
    "import numpy as np\n",
    "import torch\n",
    "import torch.nn.functional"
   ]
  },
  {
   "cell_type": "code",
   "execution_count": 3,
   "metadata": {},
   "outputs": [],
   "source": [
    "from ActivationFunctions import sigmoid,sigmoid_derivative\n",
    "from LossFunctions import binary_cross_entropy,binary_cross_entropy_derivative,binary_cross_entropy_sigmoid,binary_cross_entropy_sigmoid_derivative"
   ]
  },
  {
   "cell_type": "code",
   "execution_count": 4,
   "metadata": {},
   "outputs": [
    {
     "name": "stderr",
     "output_type": "stream",
     "text": [
      "C:\\Users\\Silas\\Programs\\Academic\\anaconda3\\envs\\experiments\\lib\\site-packages\\torch\\nn\\functional.py:1806: UserWarning: nn.functional.sigmoid is deprecated. Use torch.sigmoid instead.\n",
      "  warnings.warn(\"nn.functional.sigmoid is deprecated. Use torch.sigmoid instead.\")\n"
     ]
    }
   ],
   "source": [
    "a=np.array([[1.5],[2.5],[3.5]])\n",
    "aTensor=torch.tensor(a)\n",
    "aTensor.requires_grad_()\n",
    "sigmoidTensor=torch.nn.functional.sigmoid(aTensor)\n",
    "sigmoidTensor.requires_grad_()\n",
    "sigmoidTensor.retain_grad()\n",
    "label=np.array([[1],[0],[1]])\n",
    "labelTensor=torch.tensor(label).double()\n",
    "labelTensor.requires_grad=False"
   ]
  },
  {
   "cell_type": "code",
   "execution_count": 5,
   "metadata": {},
   "outputs": [
    {
     "name": "stdout",
     "output_type": "stream",
     "text": [
      "[[0.81757448]\n",
      " [0.92414182]\n",
      " [0.97068777]]\n",
      "[[0.81757448]\n",
      " [0.92414182]\n",
      " [0.97068777]]\n",
      "[[0.08256773]]\n"
     ]
    }
   ],
   "source": [
    "print(sigmoid(a))\n",
    "print(sigmoidTensor.detach().numpy())\n",
    "print(sigmoid_derivative(a))"
   ]
  },
  {
   "cell_type": "code",
   "execution_count": 8,
   "metadata": {},
   "outputs": [
    {
     "name": "stdout",
     "output_type": "stream",
     "text": [
      "[[0.93668448]]\n",
      "[[0.93668448]]\n"
     ]
    }
   ],
   "source": [
    "print(binary_cross_entropy(sigmoid(a),label,\"mean\"))\n",
    "print(binary_cross_entropy_sigmoid(a,label,\"mean\"))"
   ]
  },
  {
   "cell_type": "code",
   "execution_count": 9,
   "metadata": {},
   "outputs": [
    {
     "name": "stdout",
     "output_type": "stream",
     "text": [
      "0.936684476849308\n"
     ]
    }
   ],
   "source": [
    "loss=torch.nn.functional.binary_cross_entropy(sigmoidTensor,labelTensor,reduction=\"mean\")\n",
    "print(loss.detach().numpy())"
   ]
  },
  {
   "cell_type": "code",
   "execution_count": 10,
   "metadata": {},
   "outputs": [],
   "source": [
    "loss.backward()"
   ]
  },
  {
   "cell_type": "code",
   "execution_count": 11,
   "metadata": {},
   "outputs": [
    {
     "name": "stdout",
     "output_type": "stream",
     "text": [
      "[[-0.06080851]\n",
      " [ 0.30804727]\n",
      " [-0.00977074]]\n",
      "[[-0.40771005]\n",
      " [ 4.39416465]\n",
      " [-0.34339913]]\n"
     ]
    }
   ],
   "source": [
    "print(aTensor.grad.numpy())\n",
    "print(sigmoidTensor.grad.numpy())"
   ]
  },
  {
   "cell_type": "code",
   "execution_count": 12,
   "metadata": {},
   "outputs": [
    {
     "name": "stdout",
     "output_type": "stream",
     "text": [
      "[[-0.06080851]\n",
      " [ 0.30804727]\n",
      " [-0.00977074]]\n",
      "[[-0.40771005]\n",
      " [ 4.39416465]\n",
      " [-0.34339913]]\n"
     ]
    }
   ],
   "source": [
    "print(binary_cross_entropy_sigmoid_derivative(a,label,\"mean\"))\n",
    "print(binary_cross_entropy_derivative(sigmoid(a),label,\"mean\"))"
   ]
  },
  {
   "cell_type": "code",
   "execution_count": 10,
   "metadata": {},
   "outputs": [
    {
     "data": {
      "text/plain": [
       "array([[-1.22313016],\n",
       "       [13.18249396],\n",
       "       [-1.03019738]])"
      ]
     },
     "execution_count": 10,
     "metadata": {},
     "output_type": "execute_result"
    }
   ],
   "source": [
    "(sigmoid(a)-label)/(sigmoid(a)*(1-sigmoid(a)))"
   ]
  },
  {
   "cell_type": "code",
   "execution_count": null,
   "metadata": {},
   "outputs": [],
   "source": []
  }
 ],
 "metadata": {
  "interpreter": {
   "hash": "74f635b6eceefe26d14c448603d079e31f81265b727fe13dafa3df135e1a9f97"
  },
  "kernelspec": {
   "display_name": "Python 3.8.8 64-bit ('base': conda)",
   "language": "python",
   "name": "python3"
  },
  "language_info": {
   "codemirror_mode": {
    "name": "ipython",
    "version": 3
   },
   "file_extension": ".py",
   "mimetype": "text/x-python",
   "name": "python",
   "nbconvert_exporter": "python",
   "pygments_lexer": "ipython3",
   "version": "3.8.12"
  },
  "orig_nbformat": 4
 },
 "nbformat": 4,
 "nbformat_minor": 2
}
