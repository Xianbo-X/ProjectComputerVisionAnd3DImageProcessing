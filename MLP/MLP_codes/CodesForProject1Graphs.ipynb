{
 "cells": [
  {
   "cell_type": "code",
   "execution_count": 1,
   "metadata": {},
   "outputs": [],
   "source": [
    "import numpy as np\n",
    "from matplotlib import pyplot as plt\n",
    "from NeuralNetworkProj.Layers.ActivationFunctionLayers import ReLu,Sigmoid\n",
    "from NeuralNetworkProj.Layers.LinearLayer import LinearLayer\n",
    "from NeuralNetworkProj.Layers.LossFuntionLayers import CrossEntropy"
   ]
  },
  {
   "cell_type": "code",
   "execution_count": 8,
   "metadata": {},
   "outputs": [],
   "source": [
    "x=np.linspace(-10,10).reshape(-1,1)"
   ]
  },
  {
   "cell_type": "code",
   "execution_count": 9,
   "metadata": {},
   "outputs": [],
   "source": [
    "relu=ReLu()\n",
    "sigmoid=Sigmoid()\n",
    "acts=[relu,sigmoid]"
   ]
  },
  {
   "cell_type": "code",
   "execution_count": 11,
   "metadata": {},
   "outputs": [],
   "source": [
    "relu_val=relu(x)\n",
    "relu_grad=relu.backward(np.ones((x.shape[1],1)))"
   ]
  },
  {
   "cell_type": "code",
   "execution_count": 20,
   "metadata": {},
   "outputs": [
    {
     "data": {
      "text/plain": [
       "Text(0.5, 1.0, 'ReLu')"
      ]
     },
     "execution_count": 20,
     "metadata": {},
     "output_type": "execute_result"
    },
    {
     "data": {
      "image/png": "[encoded data removed]",
      "text/plain": [
       "<Figure size 432x288 with 2 Axes>"
      ]
     },
     "metadata": {
      "needs_background": "light"
     },
     "output_type": "display_data"
    }
   ],
   "source": [
    "row=1\n",
    "col=2\n",
    "fig=plt.figure(\"Activation functions\")\n",
    "ax=np.array(fig.subplots(row,col)).ravel()\n",
    "ax[0].plot(x,relu_val,label=\"relu(x)\")\n",
    "ax[0].plot(x,relu_grad,label=r\"$\\frac{d relu(x)}{dx}$\")\n",
    "ax[0].legend()\n",
    "ax[0].set_xlabel(\"x\")\n",
    "ax[0].set_ylabel(\"relu(x)\")\n",
    "ax[0].set_title(\"ReLu\")\n",
    "\n",
    "sigmoid_val=relu(x)\n",
    "sigmoid_grad=relu.backward(np.ones((x.shape[1],1)))\n",
    "ax[1].plot(x,sigmoid_val,label=r\"$\\sigma(x)$\")\n",
    "ax[1].plot(x,sigmoid_grad,label=r\"$\\frac{d \\sigma(x)}{dx}$\")\n",
    "ax[1].legend()\n",
    "ax[1].set_xlabel(\"x\")\n",
    "ax[1].set_ylabel(r\"$\\sigma(x)$\")\n",
    "ax[1].set_title(\"Sigmoid\")"
   ]
  },
  {
   "cell_type": "code",
   "execution_count": null,
   "metadata": {},
   "outputs": [],
   "source": []
  }
 ],
 "metadata": {
  "interpreter": {
   "hash": "709908c57e4fe06be2030c33e68a5897e38c119e807fb99702f3b3b73d7ee1ee"
  },
  "kernelspec": {
   "display_name": "Python 3.8.12 64-bit ('experiments': conda)",
   "language": "python",
   "name": "python3"
  },
  "language_info": {
   "codemirror_mode": {
    "name": "ipython",
    "version": 3
   },
   "file_extension": ".py",
   "mimetype": "text/x-python",
   "name": "python",
   "nbconvert_exporter": "python",
   "pygments_lexer": "ipython3",
   "version": "3.8.12"
  },
  "orig_nbformat": 4
 },
 "nbformat": 4,
 "nbformat_minor": 2
}
