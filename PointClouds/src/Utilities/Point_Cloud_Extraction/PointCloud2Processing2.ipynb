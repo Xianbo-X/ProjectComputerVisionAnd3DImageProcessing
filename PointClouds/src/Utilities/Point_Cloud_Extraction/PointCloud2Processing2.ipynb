{
 "cells": [
  {
   "cell_type": "code",
   "execution_count": 1,
   "metadata": {},
   "outputs": [],
   "source": [
    "import numpy as np\n",
    "import rosbag\n",
    "import rospy\n",
    "import struct\n",
    "import ctypes\n",
    "import sensor_msgs.point_cloud2 as pc2"
   ]
  },
  {
   "cell_type": "code",
   "execution_count": 2,
   "metadata": {},
   "outputs": [],
   "source": [
    "source_file=\"../../Raw_Point_Cloud.bag\"\n",
    "topic=['/cloud_map']\n",
    "bag_in=rosbag.Bag(source_file)"
   ]
  },
  {
   "cell_type": "code",
   "execution_count": 3,
   "metadata": {},
   "outputs": [
    {
     "data": {
      "text/plain": [
       "TypesAndTopicsTuple(msg_types={'sensor_msgs/PointCloud2': '1158d486dd51d683ce2f1be655c3c181'}, topics={'/cloud_map': TopicTuple(msg_type='sensor_msgs/PointCloud2', message_count=198, connections=1, frequency=0.9660762297288987)})"
      ]
     },
     "execution_count": 3,
     "metadata": {},
     "output_type": "execute_result"
    }
   ],
   "source": [
    "bag_in.get_type_and_topic_info()"
   ]
  },
  {
   "cell_type": "code",
   "execution_count": 4,
   "metadata": {},
   "outputs": [
    {
     "name": "stdout",
     "output_type": "stream",
     "text": [
      "<class 'rosbag.bag.BagMessage'>\n",
      "<class 'tmp9v2nl7td._sensor_msgs__PointCloud2'>\n"
     ]
    }
   ],
   "source": [
    "msgGen=bag_in.read_messages(topics=topic)\n",
    "msg1=next(msgGen)\n",
    "print(type(msg1))\n",
    "point_cloud_msg=msg1.message\n",
    "print(type(point_cloud_msg))"
   ]
  },
  {
   "cell_type": "code",
   "execution_count": 5,
   "metadata": {},
   "outputs": [],
   "source": [
    "cloud_position=np.array(list(pc2.read_points(point_cloud_msg,field_names=[\"x\",\"y\",\"z\"])))"
   ]
  },
  {
   "cell_type": "code",
   "execution_count": 6,
   "metadata": {},
   "outputs": [
    {
     "data": {
      "text/plain": [
       "(6643, 3)"
      ]
     },
     "execution_count": 6,
     "metadata": {},
     "output_type": "execute_result"
    }
   ],
   "source": [
    "cloud_position.shape"
   ]
  },
  {
   "cell_type": "code",
   "execution_count": 7,
   "metadata": {},
   "outputs": [],
   "source": [
    "cloud_color=np.array(list(pc2.read_points(point_cloud_msg,field_names=\"rgb\")))"
   ]
  },
  {
   "cell_type": "code",
   "execution_count": 12,
   "metadata": {},
   "outputs": [],
   "source": [
    "import ros_numpy"
   ]
  },
  {
   "cell_type": "code",
   "execution_count": null,
   "metadata": {},
   "outputs": [],
   "source": []
  },
  {
   "cell_type": "code",
   "execution_count": 15,
   "metadata": {},
   "outputs": [],
   "source": [
    "pointCloudArr=ros_numpy.point_cloud2.pointcloud2_to_array(msg1.message)"
   ]
  },
  {
   "cell_type": "code",
   "execution_count": null,
   "metadata": {},
   "outputs": [],
   "source": []
  },
  {
   "cell_type": "code",
   "execution_count": null,
   "metadata": {},
   "outputs": [],
   "source": []
  }
 ],
 "metadata": {
  "interpreter": {
   "hash": "916dbcbb3f70747c44a77c7bcd40155683ae19c65e1c03b4aa3499c5328201f1"
  },
  "kernelspec": {
   "display_name": "Python 3.8.10 64-bit",
   "language": "python",
   "name": "python3"
  },
  "language_info": {
   "codemirror_mode": {
    "name": "ipython",
    "version": 3
   },
   "file_extension": ".py",
   "mimetype": "text/x-python",
   "name": "python",
   "nbconvert_exporter": "python",
   "pygments_lexer": "ipython3",
   "version": "3.8.10"
  },
  "orig_nbformat": 4
 },
 "nbformat": 4,
 "nbformat_minor": 2
}
