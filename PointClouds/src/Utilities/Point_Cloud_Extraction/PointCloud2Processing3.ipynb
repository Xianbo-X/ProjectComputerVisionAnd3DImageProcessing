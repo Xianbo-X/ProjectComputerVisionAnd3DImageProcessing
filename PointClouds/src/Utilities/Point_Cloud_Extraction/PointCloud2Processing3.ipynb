{
 "cells": [
  {
   "cell_type": "code",
   "execution_count": null,
   "metadata": {},
   "outputs": [],
   "source": [
    "import numpy as np\n",
    "# import laspy as lp\n",
    "import pandas as pd\n",
    "import rosbag # Provide utilities to process rosbag file\n",
    "import rospy\n",
    "import sensor_msgs.point_cloud2 as pc2 # Provide utilities to process point cloud file\n",
    "from matplotlib import pyplot as plt\n",
    "from mpl_toolkits import mplot3d\n",
    "from pathlib import Path\n",
    "import json"
   ]
  },
  {
   "cell_type": "code",
   "execution_count": null,
   "metadata": {},
   "outputs": [],
   "source": [
    "config_path=Path(\"/home/cristina/Workspace/ProjectComputerVisionAnd3DImageProcessing/PointClouds/Configurations\")\n",
    "with open(config_path/\"folder_config.json\",\"r\") as folder_config_json:\n",
    "    folder_config=json.load(folder_config_json)"
   ]
  },
  {
   "cell_type": "code",
   "execution_count": null,
   "metadata": {},
   "outputs": [],
   "source": [
    "data_prefix=Path(folder_config[\"data_prefix\"])\n",
    "cloudpt_bag_in=rosbag.Bag(data_prefix/folder_config[\"cloud_point_file\"])\n",
    "topic=[\"/cloud_map\"]\n",
    "print(cloudpt_bag_in.get_type_and_topic_info())\n",
    "msgGen=cloudpt_bag_in.read_messages(topics=topic)\n",
    "msg1=next(msgGen)\n",
    "pt_cloud_msg=msg1.message"
   ]
  },
  {
   "cell_type": "code",
   "execution_count": null,
   "metadata": {},
   "outputs": [],
   "source": [
    "cloud_position=np.array(list(pc2.read_points(pt_cloud_msg,field_names=[\"x\",\"y\",\"z\",\"rgb\"])))"
   ]
  },
  {
   "cell_type": "code",
   "execution_count": null,
   "metadata": {},
   "outputs": [],
   "source": [
    "print(pt_cloud_msg.fields)"
   ]
  },
  {
   "cell_type": "markdown",
   "metadata": {},
   "source": [
    "## Parse rgb field\n",
    "- [Point Cloud2 Message Definition](http://docs.ros.org/en/noetic/api/sensor_msgs/html/msg/PointCloud2.html)\n",
    "- [Point Cloud2 Message processing apt](http://docs.ros.org/en/api/sensor_msgs/html/point__cloud2_8py_source.html#l00060)"
   ]
  },
  {
   "cell_type": "code",
   "execution_count": null,
   "metadata": {},
   "outputs": [],
   "source": [
    "cloud_position[0]"
   ]
  },
  {
   "cell_type": "code",
   "execution_count": null,
   "metadata": {},
   "outputs": [],
   "source": [
    "rgb_arr=cloud_position[0,-1].copy()"
   ]
  },
  {
   "cell_type": "code",
   "execution_count": null,
   "metadata": {},
   "outputs": [],
   "source": [
    "import struct"
   ]
  },
  {
   "cell_type": "code",
   "execution_count": null,
   "metadata": {},
   "outputs": [],
   "source": [
    "int(rgb_arr)"
   ]
  },
  {
   "cell_type": "code",
   "execution_count": null,
   "metadata": {},
   "outputs": [],
   "source": [
    "print((struct.unpack(\"I\",struct.pack(\">f\",rgb_arr))[0]>>16)&255)\n",
    "print((struct.unpack(\"I\",struct.pack(\">f\",rgb_arr))[0]>>8)&255)\n",
    "print((struct.unpack(\"I\",struct.pack(\">f\",rgb_arr))[0])&255)"
   ]
  },
  {
   "cell_type": "markdown",
   "metadata": {},
   "source": []
  },
  {
   "cell_type": "code",
   "execution_count": null,
   "metadata": {},
   "outputs": [],
   "source": [
    "byte_rgb=struct.pack(\">f\",rgb_arr)\n",
    "hex_rgb=byte_rgb.hex()"
   ]
  },
  {
   "cell_type": "code",
   "execution_count": null,
   "metadata": {},
   "outputs": [],
   "source": [
    "print(hex_rgb) # may be the highest two hex digit not useful"
   ]
  },
  {
   "cell_type": "code",
   "execution_count": null,
   "metadata": {},
   "outputs": [],
   "source": [
    "fmt = pc2._get_struct_fmt(pt_cloud_msg.is_bigendian, pt_cloud_msg.fields,[\"x\",\"y\",\"z\",\"rgb\"])"
   ]
  },
  {
   "cell_type": "code",
   "execution_count": null,
   "metadata": {},
   "outputs": [],
   "source": [
    "fmt"
   ]
  },
  {
   "cell_type": "code",
   "execution_count": null,
   "metadata": {},
   "outputs": [],
   "source": [
    "data=pt_cloud_msg.data"
   ]
  },
  {
   "cell_type": "code",
   "execution_count": null,
   "metadata": {},
   "outputs": [],
   "source": [
    "len(data)"
   ]
  },
  {
   "cell_type": "code",
   "execution_count": null,
   "metadata": {},
   "outputs": [],
   "source": [
    "struct.Struct(fmt).unpack_from(data,0)"
   ]
  },
  {
   "cell_type": "code",
   "execution_count": null,
   "metadata": {},
   "outputs": [],
   "source": [
    "hex(data[0])"
   ]
  },
  {
   "cell_type": "markdown",
   "metadata": {},
   "source": [
    "# Decoding Serialized data"
   ]
  },
  {
   "cell_type": "code",
   "execution_count": null,
   "metadata": {},
   "outputs": [],
   "source": [
    "# first data \"x\" : datatype 7: >f, float 32. 1 bytes=32 bits\n",
    "print(\"x, offset 0, data type 7\")\n",
    "print(data[0:4])\n",
    "print(struct.unpack(\"f\",data[0:4]))\n",
    "\n",
    "# first data \"y\" : datatype 7: >f, float 32\n",
    "print(\"y, offset 0, data type 7\")\n",
    "print(data[4:8])\n",
    "print(struct.unpack(\"f\",data[4:8]))\n",
    "\n",
    "# first data \"z\" : datatype 7: >f, float 32\n",
    "print(\"z, offset 0, data type 7\")\n",
    "print(data[8:12])\n",
    "print(struct.unpack(\"f\",data[8:12]))\n",
    "\n",
    "# TODO: check how to unpack color data\n",
    "# first data \"rgb\" : datatype 7: >f, float 32, offset 16\n",
    "# \"rgb\"=>3 * 8bits=> 3 * 2 bytes, but here are 4 * 2 bytes, \n",
    "# which 2 bytes should be ignored?\n",
    "print(data[0+16:0+16+4])\n",
    "print(struct.unpack(\"f\",data[0+16:0+16+4]))"
   ]
  },
  {
   "cell_type": "code",
   "execution_count": null,
   "metadata": {},
   "outputs": [],
   "source": [
    "len(data)"
   ]
  },
  {
   "cell_type": "code",
   "execution_count": null,
   "metadata": {},
   "outputs": [],
   "source": [
    "pt_cloud_msg.point_step\n",
    "pt_cloud_msg.row_step"
   ]
  },
  {
   "cell_type": "code",
   "execution_count": null,
   "metadata": {},
   "outputs": [],
   "source": [
    "len(data)/pt_cloud_msg.point_step"
   ]
  },
  {
   "cell_type": "code",
   "execution_count": null,
   "metadata": {},
   "outputs": [],
   "source": [
    "struct.unpack(\">BBBB\",struct.pack(\">f\",rgb_arr))"
   ]
  },
  {
   "cell_type": "code",
   "execution_count": 153,
   "metadata": {},
   "outputs": [],
   "source": [
    "def color_unpack(encoded_color):\n",
    "    # print(encoded_color)\n",
    "    data=struct.unpack(\">BBBB\",struct.pack(\">f\",encoded_color))\n",
    "    return [data[1],data[2],data[3]]"
   ]
  },
  {
   "cell_type": "markdown",
   "metadata": {},
   "source": [
    "# Decoding data x,y,z,r,g,b, fmt: fffxxxxBBBB"
   ]
  },
  {
   "cell_type": "code",
   "execution_count": 173,
   "metadata": {},
   "outputs": [],
   "source": [
    "rgb_df=pd.DataFrame(np.apply_along_axis(color_unpack,1,cloud_position[:,-1].reshape(-1,1)),columns=[\"r\",\"g\",\"b\"])\n",
    "position_df=pd.DataFrame(cloud_position[:,:3],columns=[\"x\",\"y\",\"z\"])\n",
    "cloud_df=pd.concat([position_df,rgb_df],axis=1)"
   ]
  },
  {
   "cell_type": "code",
   "execution_count": 174,
   "metadata": {},
   "outputs": [
    {
     "name": "stdout",
     "output_type": "stream",
     "text": [
      "    r   g   b\n",
      "0  35  37  34\n",
      "1  37  41  36\n",
      "2  34  34  32\n",
      "3  41  40  39\n",
      "4  36  36  33\n",
      "6643\n",
      "          x         y         z\n",
      "0  3.502988  1.214655 -1.431428\n",
      "1  3.551421  1.191114 -1.432799\n",
      "2  3.663276  1.207017 -1.418487\n",
      "3  3.754585  1.193994 -1.413791\n",
      "4  3.850423  1.212784 -1.418522\n",
      "6643\n",
      "          x         y         z   r   g   b\n",
      "0  3.502988  1.214655 -1.431428  35  37  34\n",
      "1  3.551421  1.191114 -1.432799  37  41  36\n",
      "2  3.663276  1.207017 -1.418487  34  34  32\n",
      "3  3.754585  1.193994 -1.413791  41  40  39\n",
      "4  3.850423  1.212784 -1.418522  36  36  33\n"
     ]
    }
   ],
   "source": [
    "print(rgb_df.head())\n",
    "print(len(rgb_df))\n",
    "print(position_df.head())\n",
    "print(len(position_df))\n",
    "print(cloud_df.head())"
   ]
  },
  {
   "cell_type": "code",
   "execution_count": null,
   "metadata": {},
   "outputs": [],
   "source": []
  }
 ],
 "metadata": {
  "interpreter": {
   "hash": "916dbcbb3f70747c44a77c7bcd40155683ae19c65e1c03b4aa3499c5328201f1"
  },
  "kernelspec": {
   "display_name": "Python 3.8.10 64-bit",
   "language": "python",
   "name": "python3"
  },
  "language_info": {
   "codemirror_mode": {
    "name": "ipython",
    "version": 3
   },
   "file_extension": ".py",
   "mimetype": "text/x-python",
   "name": "python",
   "nbconvert_exporter": "python",
   "pygments_lexer": "ipython3",
   "version": "3.8.10"
  },
  "orig_nbformat": 4
 },
 "nbformat": 4,
 "nbformat_minor": 2
}
